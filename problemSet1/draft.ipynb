{
 "cells": [
  {
   "cell_type": "code",
   "execution_count": 453,
   "metadata": {},
   "outputs": [],
   "source": [
    "###########################\n",
    "# 6.00.2x Problem Set 1: Space Cows \n",
    "\n",
    "from ps1_partition import get_partitions\n",
    "import time\n",
    "\n",
    "#================================\n",
    "# Part A: Transporting Space Cows\n",
    "#================================\n",
    "\n",
    "def load_cows(filename):\n",
    "    \"\"\"\n",
    "    Read the contents of the given file.  Assumes the file contents contain\n",
    "    data in the form of comma-separated cow name, weight pairs, and return a\n",
    "    dictionary containing cow names as keys and corresponding weights as values.\n",
    "\n",
    "    Parameters:\n",
    "    filename - the name of the data file as a string\n",
    "\n",
    "    Returns:\n",
    "    a dictionary of cow name (string), weight (int) pairs\n",
    "    \"\"\"\n",
    "\n",
    "    cow_dict = dict()\n",
    "\n",
    "    f = open(filename, 'r')\n",
    "    \n",
    "    for line in f:\n",
    "        line_data = line.split(',')\n",
    "        cow_dict[line_data[0]] = int(line_data[1])\n",
    "    return cow_dict"
   ]
  },
  {
   "cell_type": "code",
   "execution_count": 454,
   "metadata": {},
   "outputs": [
    {
     "data": {
      "text/plain": [
       "{'Maggie': 3,\n",
       " 'Herman': 7,\n",
       " 'Betsy': 9,\n",
       " 'Oreo': 6,\n",
       " 'Moo Moo': 3,\n",
       " 'Milkshake': 2,\n",
       " 'Millie': 5,\n",
       " 'Lola': 2,\n",
       " 'Florence': 2,\n",
       " 'Henrietta': 9}"
      ]
     },
     "execution_count": 454,
     "metadata": {},
     "output_type": "execute_result"
    }
   ],
   "source": [
    "cows = load_cows('ps1_cow_data.txt')\n",
    "cows"
   ]
  },
  {
   "cell_type": "code",
   "execution_count": 455,
   "metadata": {},
   "outputs": [],
   "source": [
    "def greedy_cow_transport(cows,limit=10):\n",
    "    \"\"\"\n",
    "    Uses a greedy heuristic to determine an allocation of cows that attempts to\n",
    "    minimize the number of spaceship trips needed to transport all the cows. The\n",
    "    returned allocation of cows may or may not be optimal.\n",
    "    The greedy heuristic should follow the following method:\n",
    "\n",
    "    1. As long as the current trip can fit another cow, add the largest cow that will fit\n",
    "        to the trip\n",
    "    2. Once the trip is full, begin a new trip to transport the remaining cows\n",
    "\n",
    "    Does not mutate the given dictionary of cows.\n",
    "\n",
    "    Parameters:\n",
    "    cows - a dictionary of name (string), weight (int) pairs\n",
    "    limit - weight limit of the spaceship (an int)\n",
    "    \n",
    "    Returns:\n",
    "    A list of lists, with each inner list containing the names of cows\n",
    "    transported on a particular trip and the overall list containing all the\n",
    "    trips\n",
    "    \"\"\"\n",
    "    import time\n",
    "    start = time.time()\n",
    "    cows_copy = cows.copy()\n",
    "    cows_loaded = []\n",
    "    ship_load = []\n",
    "    l = len(cows)\n",
    "    while len(cows_loaded) != l:\n",
    "        weight = 0\n",
    "        trip = []\n",
    "        checked = []\n",
    "        for i in range(len(cows_copy)):\n",
    "            heaviest_weight = 0\n",
    "            for i, k in cows_copy.items():\n",
    "                if k > heaviest_weight and (i not in checked):\n",
    "                    heaviest_weight = k\n",
    "                    heaviest_cow = i\n",
    "\n",
    "            if (heaviest_weight + weight) <= limit:\n",
    "                trip.append(heaviest_cow)\n",
    "                weight += heaviest_weight\n",
    "                cows_copy.pop(heaviest_cow)\n",
    "                cows_loaded.append(heaviest_cow)\n",
    "            else:\n",
    "                checked.append(heaviest_cow)\n",
    "        if len(trip) != 0 and (trip not in ship_load):\n",
    "            ship_load.append(trip)\n",
    "    end = time.time()\n",
    "    print(start-end)\n",
    "    return ship_load"
   ]
  },
  {
   "cell_type": "code",
   "execution_count": 456,
   "metadata": {},
   "outputs": [
    {
     "name": "stdout",
     "output_type": "stream",
     "text": [
      "-4.744529724121094e-05\n"
     ]
    },
    {
     "data": {
      "text/plain": [
       "[['Betsy'],\n",
       " ['Henrietta'],\n",
       " ['Herman', 'Maggie'],\n",
       " ['Oreo', 'Moo Moo'],\n",
       " ['Millie', 'Milkshake', 'Lola'],\n",
       " ['Florence']]"
      ]
     },
     "execution_count": 456,
     "metadata": {},
     "output_type": "execute_result"
    }
   ],
   "source": [
    "greedy_cow_transport(cows)"
   ]
  },
  {
   "cell_type": "code",
   "execution_count": 457,
   "metadata": {},
   "outputs": [],
   "source": [
    "from ps1_partition import get_partitions"
   ]
  },
  {
   "cell_type": "code",
   "execution_count": 458,
   "metadata": {},
   "outputs": [
    {
     "data": {
      "text/plain": [
       "<generator object get_partitions at 0x7f5a40de6500>"
      ]
     },
     "execution_count": 458,
     "metadata": {},
     "output_type": "execute_result"
    }
   ],
   "source": [
    "cows = load_cows('ps1_cow_data.txt')\n",
    "\n",
    "x"
   ]
  },
  {
   "cell_type": "code",
   "execution_count": 459,
   "metadata": {},
   "outputs": [],
   "source": [
    "def load_cows(filename):\n",
    "    \"\"\"\n",
    "    Read the contents of the given file.  Assumes the file contents contain\n",
    "    data in the form of comma-separated cow name, weight pairs, and return a\n",
    "    dictionary containing cow names as keys and corresponding weights as values.\n",
    "\n",
    "    Parameters:\n",
    "    filename - the name of the data file as a string\n",
    "\n",
    "    Returns:\n",
    "    a dictionary of cow name (string), weight (int) pairs\n",
    "    \"\"\"\n",
    "\n",
    "    cow_dict = dict()\n",
    "\n",
    "    f = open(filename, 'r')\n",
    "    \n",
    "    for line in f:\n",
    "        line_data = line.split(',')\n",
    "        cow_dict[line_data[0]] = int(line_data[1])\n",
    "    return cow_dict\n",
    "\n",
    "\n",
    "# Problem 1\n",
    "def greedy_cow_transport(cows,limit=10):\n",
    "    \"\"\"\n",
    "    Uses a greedy heuristic to determine an allocation of cows that attempts to\n",
    "    minimize the number of spaceship trips needed to transport all the cows. The\n",
    "    returned allocation of cows may or may not be optimal.\n",
    "    The greedy heuristic should follow the following method:\n",
    "\n",
    "    1. As long as the current trip can fit another cow, add the largest cow that will fit\n",
    "        to the trip\n",
    "    2. Once the trip is full, begin a new trip to transport the remaining cows\n",
    "\n",
    "    Does not mutate the given dictionary of cows.\n",
    "\n",
    "    Parameters:\n",
    "    cows - a dictionary of name (string), weight (int) pairs\n",
    "    limit - weight limit of the spaceship (an int)\n",
    "    \n",
    "    Returns:\n",
    "    A list of lists, with each inner list containing the names of cows\n",
    "    transported on a particular trip and the overall list containing all the\n",
    "    trips\n",
    "    \"\"\"\n",
    "    cows_loaded = []\n",
    "    ship_load = []\n",
    "    l = len(cows)\n",
    "    while len(cows_loaded) != l:\n",
    "        weight = 0\n",
    "        trip = []\n",
    "        checked = []\n",
    "        for i in range(len(cows)):\n",
    "            heaviest_weight = 0\n",
    "            for i, k in cows.items():\n",
    "                if k > heaviest_weight and (i not in checked):\n",
    "                    heaviest_weight = k\n",
    "                    heaviest_cow = i\n",
    "\n",
    "            if (heaviest_weight + weight) <= limit:\n",
    "                trip.append(heaviest_cow)\n",
    "                weight += heaviest_weight\n",
    "                cows.pop(heaviest_cow)\n",
    "                cows_loaded.append(heaviest_cow)\n",
    "            else:\n",
    "                checked.append(heaviest_cow)\n",
    "        if len(trip) != 0 and (trip not in ship_load):\n",
    "            ship_load.append(trip)\n",
    "    return ship_load\n",
    "\n",
    "\n",
    "# Problem 2\n",
    "def brute_force_cow_transport(cows,limit=10):\n",
    "    \"\"\"\n",
    "    Finds the allocation of cows that minimizes the number of spaceship trips\n",
    "    via brute force.  The brute force algorithm should follow the following method:\n",
    "\n",
    "    1. Enumerate all possible ways that the cows can be divided into separate trips\n",
    "    2. Select the allocation that minimizes the number of trips without making any trip\n",
    "        that does not obey the weight limitation\n",
    "            \n",
    "    Does not mutate the given dictionary of cows.\n",
    "\n",
    "    Parameters:\n",
    "    cows - a dictionary of name (string), weight (int) pairs\n",
    "    limit - weight limit of the spaceship (an int)\n",
    "    \n",
    "    Returns:\n",
    "    A list of lists, with each inner list containing the names of cows\n",
    "    transported on a particular trip and the overall list containing all the\n",
    "    trips\n",
    "    \"\"\"\n",
    "    cows_list = get_partitions(list(cows.keys()))\n",
    "    def weight_check(cows_list, limit):\n",
    "        check = True\n",
    "        for i in cows_list:\n",
    "            weight = 0\n",
    "            for x in i:\n",
    "                weight += cows[x]\n",
    "            if weight > limit:\n",
    "                check = False\n",
    "                break\n",
    "        if check == True:\n",
    "            return cows_list\n",
    "    solutions = []\n",
    "    for i in cows_list:\n",
    "        status = weight_check(i, limit)\n",
    "        if type(status) == list:\n",
    "            solutions.append(status)\n",
    "    min = 10\n",
    "    for i in solutions:\n",
    "        if len(i) < min:\n",
    "            min = len(i)\n",
    "            solution = i\n",
    "    return solution\n",
    "\n",
    "        \n",
    "# Problem 3\n",
    "def compare_cow_transport_algorithms():\n",
    "    \"\"\"\n",
    "    Using the data from ps1_cow_data.txt and the specified weight limit, run your\n",
    "    greedy_cow_transport and brute_force_cow_transport functions here. Use the\n",
    "    default weight limits of 10 for both greedy_cow_transport and\n",
    "    brute_force_cow_transport.\n",
    "    \n",
    "    Print out the number of trips returned by each method, and how long each\n",
    "    method takes to run in seconds.\n",
    "\n",
    "    Returns:\n",
    "    Does not return anything.\n",
    "    \"\"\"\n",
    "    import time\n",
    "    cows = load_cows(\"ps1_cow_data.txt\")\n",
    "    limit=100\n",
    "    gready_time1 = time.time()\n",
    "    greedy_cow_transport(cows, limit)\n",
    "    gready_time2 = time.time()\n",
    "    comp1 = gready_time2 - gready_time1\n",
    "\n",
    "\n",
    "    brute_time1 = time.time()\n",
    "    brute_force_cow_transport(cows, limit)\n",
    "    brute_time2 = time.time()\n",
    "    comp2 = brute_time2 - brute_time1\n",
    "\n",
    "    if comp1 > comp2:\n",
    "        print('The brute force algorithm is faster')\n",
    "    elif comp2 > comp1:\n",
    "        print('The gready algorithm is faster')"
   ]
  },
  {
   "cell_type": "code",
   "execution_count": 469,
   "metadata": {},
   "outputs": [
    {
     "name": "stdout",
     "output_type": "stream",
     "text": [
      "The brute force algorithm is faster\n"
     ]
    }
   ],
   "source": [
    "compare_cow_transport_algorithms()"
   ]
  }
 ],
 "metadata": {
  "kernelspec": {
   "display_name": "Python 3",
   "language": "python",
   "name": "python3"
  },
  "language_info": {
   "codemirror_mode": {
    "name": "ipython",
    "version": 3
   },
   "file_extension": ".py",
   "mimetype": "text/x-python",
   "name": "python",
   "nbconvert_exporter": "python",
   "pygments_lexer": "ipython3",
   "version": "3.10.12"
  },
  "orig_nbformat": 4
 },
 "nbformat": 4,
 "nbformat_minor": 2
}
