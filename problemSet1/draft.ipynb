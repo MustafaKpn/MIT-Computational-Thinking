{
 "cells": [
  {
   "cell_type": "code",
   "execution_count": 324,
   "metadata": {},
   "outputs": [],
   "source": [
    "###########################\n",
    "# 6.00.2x Problem Set 1: Space Cows \n",
    "\n",
    "from ps1_partition import get_partitions\n",
    "import time\n",
    "\n",
    "#================================\n",
    "# Part A: Transporting Space Cows\n",
    "#================================\n",
    "\n",
    "def load_cows(filename):\n",
    "    \"\"\"\n",
    "    Read the contents of the given file.  Assumes the file contents contain\n",
    "    data in the form of comma-separated cow name, weight pairs, and return a\n",
    "    dictionary containing cow names as keys and corresponding weights as values.\n",
    "\n",
    "    Parameters:\n",
    "    filename - the name of the data file as a string\n",
    "\n",
    "    Returns:\n",
    "    a dictionary of cow name (string), weight (int) pairs\n",
    "    \"\"\"\n",
    "\n",
    "    cow_dict = dict()\n",
    "\n",
    "    f = open(filename, 'r')\n",
    "    \n",
    "    for line in f:\n",
    "        line_data = line.split(',')\n",
    "        cow_dict[line_data[0]] = int(line_data[1])\n",
    "    return cow_dict"
   ]
  },
  {
   "cell_type": "code",
   "execution_count": 325,
   "metadata": {},
   "outputs": [
    {
     "data": {
      "text/plain": [
       "{'Maggie': 3,\n",
       " 'Herman': 7,\n",
       " 'Betsy': 9,\n",
       " 'Oreo': 6,\n",
       " 'Moo Moo': 3,\n",
       " 'Milkshake': 2,\n",
       " 'Millie': 5,\n",
       " 'Lola': 2,\n",
       " 'Florence': 2,\n",
       " 'Henrietta': 9}"
      ]
     },
     "execution_count": 325,
     "metadata": {},
     "output_type": "execute_result"
    }
   ],
   "source": [
    "cows = load_cows('ps1_cow_data.txt')\n",
    "cows"
   ]
  },
  {
   "cell_type": "code",
   "execution_count": 326,
   "metadata": {},
   "outputs": [],
   "source": [
    "def greedy_cow_transport(cows,limit=10):\n",
    "    \"\"\"\n",
    "    Uses a greedy heuristic to determine an allocation of cows that attempts to\n",
    "    minimize the number of spaceship trips needed to transport all the cows. The\n",
    "    returned allocation of cows may or may not be optimal.\n",
    "    The greedy heuristic should follow the following method:\n",
    "\n",
    "    1. As long as the current trip can fit another cow, add the largest cow that will fit\n",
    "        to the trip\n",
    "    2. Once the trip is full, begin a new trip to transport the remaining cows\n",
    "\n",
    "    Does not mutate the given dictionary of cows.\n",
    "\n",
    "    Parameters:\n",
    "    cows - a dictionary of name (string), weight (int) pairs\n",
    "    limit - weight limit of the spaceship (an int)\n",
    "    \n",
    "    Returns:\n",
    "    A list of lists, with each inner list containing the names of cows\n",
    "    transported on a particular trip and the overall list containing all the\n",
    "    trips\n",
    "    \"\"\"\n",
    "    import time\n",
    "    start = time.time()\n",
    "    cows_copy = cows.copy()\n",
    "    cows_loaded = []\n",
    "    ship_load = []\n",
    "    l = len(cows)\n",
    "    while len(cows_loaded) != l:\n",
    "        weight = 0\n",
    "        trip = []\n",
    "        checked = []\n",
    "        for i in range(len(cows_copy)):\n",
    "            heaviest_weight = 0\n",
    "            for i, k in cows_copy.items():\n",
    "                if k > heaviest_weight and (i not in checked):\n",
    "                    heaviest_weight = k\n",
    "                    heaviest_cow = i\n",
    "\n",
    "            if (heaviest_weight + weight) <= limit:\n",
    "                trip.append(heaviest_cow)\n",
    "                weight += heaviest_weight\n",
    "                cows_copy.pop(heaviest_cow)\n",
    "                cows_loaded.append(heaviest_cow)\n",
    "            else:\n",
    "                checked.append(heaviest_cow)\n",
    "        if len(trip) != 0 and (trip not in ship_load):\n",
    "            ship_load.append(trip)\n",
    "    end = time.time()\n",
    "    print(start-end)\n",
    "    return ship_load"
   ]
  },
  {
   "cell_type": "code",
   "execution_count": 359,
   "metadata": {},
   "outputs": [
    {
     "name": "stdout",
     "output_type": "stream",
     "text": [
      "-8.058547973632812e-05\n"
     ]
    },
    {
     "data": {
      "text/plain": [
       "[['Betsy'],\n",
       " ['Henrietta'],\n",
       " ['Herman', 'Maggie'],\n",
       " ['Oreo', 'Moo Moo'],\n",
       " ['Millie', 'Milkshake', 'Lola'],\n",
       " ['Florence']]"
      ]
     },
     "execution_count": 359,
     "metadata": {},
     "output_type": "execute_result"
    }
   ],
   "source": [
    "greedy_cow_transport(cows)"
   ]
  }
 ],
 "metadata": {
  "kernelspec": {
   "display_name": "Python 3",
   "language": "python",
   "name": "python3"
  },
  "language_info": {
   "codemirror_mode": {
    "name": "ipython",
    "version": 3
   },
   "file_extension": ".py",
   "mimetype": "text/x-python",
   "name": "python",
   "nbconvert_exporter": "python",
   "pygments_lexer": "ipython3",
   "version": "3.10.12"
  },
  "orig_nbformat": 4
 },
 "nbformat": 4,
 "nbformat_minor": 2
}
