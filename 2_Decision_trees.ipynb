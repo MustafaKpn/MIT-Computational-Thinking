{
 "cells": [
  {
   "cell_type": "markdown",
   "metadata": {},
   "source": [
    "### Decision tress and Dynamic Programming\n",
    "Dynamic programming is a method for efficiently solving problems that exhibit the characteristics of overlapping subproblems and optimal substructure.\n",
    "\n",
    "A problem has optimal substructure if a globally optimal solution can be found by combining optimal solutions to local subproblems.\n",
    "\n",
    "A problem has optimal substructure if a globally optimal solution can be found by combining optimal solutions to local subproblems."
   ]
  },
  {
   "cell_type": "code",
   "execution_count": 6,
   "metadata": {},
   "outputs": [],
   "source": [
    "def fib(n):\n",
    "    \"\"\"Assumes n is an int >= 0\n",
    "    Returns Fibonacci of n\"\"\"\n",
    "    if n == 0 or n == 1:\n",
    "        return 1\n",
    "    else:\n",
    "        return fib(n-1) + fib(n-2)"
   ]
  },
  {
   "cell_type": "markdown",
   "metadata": {},
   "source": [
    "The previous implementation of Fibonacci algorithm is not efficient because for each n value, all of the previous values are calculated over and over again. For this reason dynamic programming offers a solution of recording the results of each run in a dictionary. This is called **Memoziation**.\n",
    "The following code shows a new Fibonacci implementation that is more efficient. "
   ]
  },
  {
   "cell_type": "code",
   "execution_count": 1,
   "metadata": {},
   "outputs": [],
   "source": [
    "def fastFib(n, memo = {}):\n",
    "    \"\"\"Assumes n is an int >= 0, memo used only by recursive calls\n",
    "    Returns Fibonacci of n\"\"\"\n",
    "    if n == 0 or n == 1:\n",
    "        return 1\n",
    "    try:\n",
    "        return memo[n]\n",
    "    except KeyError:\n",
    "        result = fastFib(n-1, memo) + fastFib(n-2, memo)\n",
    "        memo[n] = result\n",
    "        return result"
   ]
  },
  {
   "cell_type": "code",
   "execution_count": 4,
   "metadata": {},
   "outputs": [
    {
     "data": {
      "text/plain": [
       "8670007398507948658051921"
      ]
     },
     "execution_count": 4,
     "metadata": {},
     "output_type": "execute_result"
    }
   ],
   "source": [
    "fastFib(120)"
   ]
  },
  {
   "cell_type": "markdown",
   "metadata": {},
   "source": [
    "The knapsack problem can be solved using dynamic programming by constructing search binary tree.\n",
    "A rooted binary tree is an acyclic directed graph in which:\n",
    "* There is exactly one node with no parent. This is called **Root**.\n",
    "* Each non-root node has exactly one parent.\n",
    "* Each node has at most two children nodes. A child-less node is called **leaf**.\n",
    "\n",
    "Each node in the search tree for the 0/1 knapsack problem is labeled with a quadruple that denotes a partial solution to the knapsack problem. The elements of the quadruple are:\n",
    "* A set of items to be taken,\n",
    "* The list of items for which a decision has not been made,\n",
    "* The total value of the items in the set of items to be taken (this is merely an optimization, since the value could be computed from the set), and\n",
    "* The remaining space in the knapsack. (Again, this is an optimization, since it is merely the difference between the weight allowed and the weight of all the items taken so far.)"
   ]
  }
 ],
 "metadata": {
  "kernelspec": {
   "display_name": "Python 3",
   "language": "python",
   "name": "python3"
  },
  "language_info": {
   "codemirror_mode": {
    "name": "ipython",
    "version": 3
   },
   "file_extension": ".py",
   "mimetype": "text/x-python",
   "name": "python",
   "nbconvert_exporter": "python",
   "pygments_lexer": "ipython3",
   "version": "3.10.12"
  },
  "orig_nbformat": 4
 },
 "nbformat": 4,
 "nbformat_minor": 2
}
