{
 "cells": [
  {
   "cell_type": "code",
   "execution_count": 153,
   "metadata": {},
   "outputs": [],
   "source": [
    "import pylab\n",
    "import numpy as np"
   ]
  },
  {
   "cell_type": "code",
   "execution_count": 154,
   "metadata": {},
   "outputs": [],
   "source": [
    "def rSquared(observed, predicted):\n",
    "    return 1 - ((sum((predicted - observed)**2)) / sum((observed - np.repeat(sum(observed)/len(observed), len(observed))) ** 2))\n",
    "\n",
    "def genFit(xvals, yvals, degrees):\n",
    "    \"\"\" Generates models coefficients based on given data points.\"\"\"\n",
    "    models = []\n",
    "    for d in degrees:\n",
    "        model = pylab.polyfit(xvals, yvals, d)\n",
    "        models.append(model)\n",
    "    \n",
    "    return models\n",
    "\n",
    "def testFits(xvals, yvals, degrees, title):\n",
    "    models = genFit(xvals, yvals, degrees)\n",
    "    pylab.plot(xvals, yvals, 'o', label = 'Data')\n",
    "    \n",
    "    for i in range(len(models)):\n",
    "        predicted = pylab.polyval(models[i], xvals)\n",
    "        error = rSquared(yvals, predicted)\n",
    "        \n",
    "        pylab.plot(xvals, predicted, label='Fit of degree: ' + str(degrees[i]) + ', R2: ' + str(round(error, 5)))\n",
    "    pylab.legend(loc = 'best')\n",
    "    pylab.title(title)"
   ]
  }
 ],
 "metadata": {
  "kernelspec": {
   "display_name": "Python 3",
   "language": "python",
   "name": "python3"
  },
  "language_info": {
   "codemirror_mode": {
    "name": "ipython",
    "version": 3
   },
   "file_extension": ".py",
   "mimetype": "text/x-python",
   "name": "python",
   "nbconvert_exporter": "python",
   "pygments_lexer": "ipython3",
   "version": "3.10.12"
  }
 },
 "nbformat": 4,
 "nbformat_minor": 2
}
