{
 "cells": [
  {
   "cell_type": "markdown",
   "metadata": {},
   "source": [
    "#### Optimization model\n",
    "##### Knapsack problem, Implementing Greedy algorithm"
   ]
  },
  {
   "cell_type": "code",
   "execution_count": null,
   "metadata": {},
   "outputs": [],
   "source": [
    "## Helper function for generating all power sets of a given list.\n",
    "def power_set(input_set):\n",
    "    n = len(input_set)\n",
    "    # The number of subsets for a set of size n is 2^n\n",
    "    total_subsets = 2**n\n",
    "\n",
    "    # Generate all subsets using binary representation of numbers from 0 to 2^n - 1\n",
    "    all_subsets = []\n",
    "    for i in range(total_subsets):\n",
    "        subset = [input_set[j] for j in range(n) if (i & (1 << j)) > 0]\n",
    "        all_subsets.append(subset)\n",
    "\n",
    "    return all_subsets\n",
    "\n",
    "# Example usage:\n",
    "input_set = [1, 9, 4]\n",
    "result = power_set(input_set)\n",
    "print(result)"
   ]
  },
  {
   "cell_type": "code",
   "execution_count": null,
   "metadata": {},
   "outputs": [],
   "source": [
    "# Problem 2\n",
    "# A house burglar wants to decide what items to take based on either the value of the items,\n",
    "# the weights, or the ratio of value to weight\n",
    "class Item(object):\n",
    "    def __init__(self, n, v, w):\n",
    "        self.name = n\n",
    "        self.value = v\n",
    "        self.weight = w\n",
    "\n",
    "    def getName(self):\n",
    "        return self.name\n",
    "    def getValue(self):\n",
    "        return self.value\n",
    "    def getWeight(self):\n",
    "        return self.weight\n",
    "    def getDensity(self):\n",
    "        return self.value/self.weight\n",
    "    \n",
    "    def __str__(self):\n",
    "        return \"<\" + str(self.name) + ', ' + str(self.value) + ', ' + str(self.weight) + '>'\n",
    "    \n",
    "def value(item):\n",
    "    return item.getValue()\n",
    "\n",
    "def weightInverse(item):\n",
    "    return 1/item.getWeight()\n",
    "\n",
    "def density(item):\n",
    "    return item.getValue()/item.getWeight()\n",
    "\n",
    "def greedy(items, maxWeight, keyFunction):\n",
    "    itemsCopy = sorted(items, key=keyFunction, reverse=True)\n",
    "    totalValue, totalWeight = 0, 0\n",
    "    result = []\n",
    "    for i in range(len(itemsCopy)):\n",
    "        if (totalWeight + itemsCopy[i].getWeight()) <= maxWeight:\n",
    "            result.append(itemsCopy[i])\n",
    "            totalValue += itemsCopy[i].getValue()\n",
    "            totalWeight += itemsCopy[i].getWeight()\n",
    "    \n",
    "    return (result, totalValue)\n",
    "\n",
    "def buildItems():\n",
    "    names = ['clock','painting','radio','vase','book','computer']\n",
    "    values = [175,90,20,50,10,200]\n",
    "    weights = [10,9,4,2,1,20]\n",
    "    Items = []\n",
    "    for i in range(len(values)):\n",
    "        Items.append(Item(names[i], values[i], weights[i]))\n",
    "    return Items\n",
    "\n",
    "###################################\n",
    "# Implementing the greedy algorithm\n",
    "###################################\n",
    "# The essence of a greedy algorithm is making the best (as defined by some metric) \n",
    "# local choice at each step.\n",
    "\n",
    "def testGreedy(items, maxWeight, keyFunction):\n",
    "    taken, val = greedy(items, maxWeight, keyFunction)\n",
    "    print('Total value of items taken is: ', val)\n",
    "    for item in taken:\n",
    "        print(' ', item)\n",
    "\n",
    "def testGreedys(maxUnits):\n",
    "    items = buildItems()\n",
    "    print('Use greedy by value to fill a backpack of size: ', maxUnits)\n",
    "    testGreedy(items, maxUnits, value)\n",
    "    print('\\nUse greedy by weight to fill a backpack with size: ', maxUnits)\n",
    "    testGreedy(items, maxUnits, weightInverse)\n",
    "    print('\\nUse greedy by density to fill a backpack of size: ', maxUnits)\n",
    "    testGreedy(items, maxUnits, density)\n",
    "\n",
    "#############################################################\n",
    "# Implementing brute force algorithm for the previous problem\n",
    "#############################################################\n",
    "# The complexity of the brute force algorithm is O(2^n)\n",
    "# The brute force algorithm gives the optimal global solution,\n",
    "# whereas the greedy algorithm gives the optimal local solution(based on a metric).\n",
    "\n",
    "def chooseBest(pset, maxUnits):\n",
    "    bestVal = 0\n",
    "    bestSet = None\n",
    "    for items in pset:\n",
    "        itemsVal = 0\n",
    "        itemsWeight = 0\n",
    "        for item in items:\n",
    "            itemsVal += item.getValue()\n",
    "            itemsWeight += item.getWeight()\n",
    "            if itemsWeight < maxUnits and itemsVal > bestVal:\n",
    "                bestVal = itemsVal\n",
    "                bestSet = items\n",
    "    return (bestVal, bestSet)\n",
    "\n",
    "def testBest(maxUnits = 20):\n",
    "    items = buildItems()\n",
    "    pset = power_set(items)\n",
    "    val, taken = chooseBest(pset, maxUnits)\n",
    "    print(\"Total value of items taken is: \", val)\n",
    "    for item in taken:\n",
    "        print(item)\n"
   ]
  },
  {
   "cell_type": "code",
   "execution_count": null,
   "metadata": {},
   "outputs": [],
   "source": [
    "testGreedys(20)\n",
    "# Note: from the result of running this block we can see that the greedy solution doesn't always\n",
    "# give the optimal solution and there can different criteria for finding the optimal solution."
   ]
  },
  {
   "cell_type": "code",
   "execution_count": null,
   "metadata": {},
   "outputs": [],
   "source": [
    "testBest(20)\n",
    "# from the results of this block we can see how the brute force algorithm gives the optimal solution"
   ]
  },
  {
   "cell_type": "markdown",
   "metadata": {},
   "source": [
    "### Decision tress and Dynamic Programming\n",
    "Dynamic programming is a method for efficiently solving problems that exhibit the characteristics of overlapping subproblems and optimal substructure.\n",
    "\n",
    "A problem has optimal substructure if a globally optimal solution can be found by combining optimal solutions to local subproblems.\n",
    "\n",
    "A problem has optimal substructure if a globally optimal solution can be found by combining optimal solutions to local subproblems."
   ]
  },
  {
   "cell_type": "code",
   "execution_count": null,
   "metadata": {},
   "outputs": [],
   "source": [
    "def fib(n):\n",
    "    \"\"\"Assumes n is an int >= 0\n",
    "    Returns Fibonacci of n\"\"\"\n",
    "    if n == 0 or n == 1:\n",
    "        return 1\n",
    "    else:\n",
    "        return fib(n-1) + fib(n-2)"
   ]
  },
  {
   "cell_type": "markdown",
   "metadata": {},
   "source": [
    "The previous implementation of Fibonacci algorithm is not efficient because for each n value, all of the previous values are calculated over and over again. For this reason dynamic programming offers a solution of recording the results of each run in a dictionary. This is called **Memoziation**.\n",
    "The following code shows a new Fibonacci implementation that is more efficient. "
   ]
  },
  {
   "cell_type": "code",
   "execution_count": null,
   "metadata": {},
   "outputs": [],
   "source": [
    "def fastFib(n, memo = {}):\n",
    "    \"\"\"Assumes n is an int >= 0, memo used only by recursive calls\n",
    "    Returns Fibonacci of n\"\"\"\n",
    "    if n == 0 or n == 1:\n",
    "        return 1\n",
    "    try:\n",
    "        return memo[n]\n",
    "    except KeyError:\n",
    "        result = fastFib(n-1, memo) + fastFib(n-2, memo)\n",
    "        memo[n] = result\n",
    "        return result"
   ]
  },
  {
   "cell_type": "markdown",
   "metadata": {},
   "source": [
    "fastFib(120)"
   ]
  },
  {
   "cell_type": "markdown",
   "metadata": {},
   "source": [
    "The knapsack problem can be solved using dynamic programming by constructing search binary tree.\n",
    "A rooted binary tree is an acyclic directed graph in which:\n",
    "* There is exactly one node with no parent. This is called **Root**.\n",
    "* Each non-root node has exactly one parent.\n",
    "* Each node has at most two children nodes. A child-less node is called **leaf**.\n",
    "\n",
    "Each node in the search tree for the 0/1 knapsack problem is labeled with a quadruple that denotes a partial solution to the knapsack problem. The elements of the quadruple are:\n",
    "* A set of items to be taken,\n",
    "* The list of items for which a decision has not been made,\n",
    "* The total value of the items in the set of items to be taken (this is merely an optimization, since the value could be computed from the set), and\n",
    "* The remaining space in the knapsack. (Again, this is an optimization, since it is merely the difference between the weight allowed and the weight of all the items taken so far.)\n",
    "\n",
    "##### Implementation strategy:\n",
    "The tree is built top-down starting with the root. One element is selected from the still-to-be-considered items. If there is room for that item in the knap- sack, a node is constructed that reflects the consequence of choosing to take that item. By convention, we draw that node as the left child. The right child shows the consequences of choosing not to take that item. The process is then applied recursively until either the knapsack is full or there are no more items to consider. Because each edge represents a decision (to take or not to take an item), such trees are called decision trees."
   ]
  }
 ],
 "metadata": {
  "kernelspec": {
   "display_name": "Python 3",
   "language": "python",
   "name": "python3"
  },
  "language_info": {
   "codemirror_mode": {
    "name": "ipython",
    "version": 3
   },
   "file_extension": ".py",
   "mimetype": "text/x-python",
   "name": "python",
   "nbconvert_exporter": "python",
   "pygments_lexer": "ipython3",
   "version": "3.10.12"
  },
  "orig_nbformat": 4
 },
 "nbformat": 4,
 "nbformat_minor": 2
}
