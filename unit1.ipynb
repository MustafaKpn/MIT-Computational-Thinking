{
 "cells": [
  {
   "cell_type": "markdown",
   "metadata": {},
   "source": [
    "#### Optimization model\n",
    "##### Knapsack problem, Implementing Greedy algorithm"
   ]
  },
  {
   "cell_type": "code",
   "execution_count": 9,
   "metadata": {},
   "outputs": [
    {
     "name": "stdout",
     "output_type": "stream",
     "text": [
      "[[], [1], [9], [1, 9], [4], [1, 4], [9, 4], [1, 9, 4]]\n"
     ]
    }
   ],
   "source": [
    "## Helper function for generating all power sets of a given list.\n",
    "def power_set(input_set):\n",
    "    n = len(input_set)\n",
    "    # The number of subsets for a set of size n is 2^n\n",
    "    total_subsets = 2**n\n",
    "\n",
    "    # Generate all subsets using binary representation of numbers from 0 to 2^n - 1\n",
    "    all_subsets = []\n",
    "    for i in range(total_subsets):\n",
    "        subset = [input_set[j] for j in range(n) if (i & (1 << j)) > 0]\n",
    "        all_subsets.append(subset)\n",
    "\n",
    "    return all_subsets\n",
    "\n",
    "# Example usage:\n",
    "input_set = [1, 9, 4]\n",
    "result = power_set(input_set)\n",
    "print(result)"
   ]
  },
  {
   "cell_type": "code",
   "execution_count": 10,
   "metadata": {},
   "outputs": [],
   "source": [
    "# Problem 2\n",
    "# A house burglar wants to decide what items to take based on either the value of the items,\n",
    "# the weights, or the ratio of value to weight\n",
    "class Item(object):\n",
    "    def __init__(self, n, v, w):\n",
    "        self.name = n\n",
    "        self.value = v\n",
    "        self.weight = w\n",
    "\n",
    "    def getName(self):\n",
    "        return self.name\n",
    "    def getValue(self):\n",
    "        return self.value\n",
    "    def getWeight(self):\n",
    "        return self.weight\n",
    "    def getDensity(self):\n",
    "        return self.value/self.weight\n",
    "    \n",
    "    def __str__(self):\n",
    "        return \"<\" + str(self.name) + ', ' + str(self.value) + ', ' + str(self.weight) + '>'\n",
    "    \n",
    "def value(item):\n",
    "    return item.getValue()\n",
    "\n",
    "def weightInverse(item):\n",
    "    return 1/item.getWeight()\n",
    "\n",
    "def density(item):\n",
    "    return item.getValue()/item.getWeight()\n",
    "\n",
    "def greedy(items, maxWeight, keyFunction):\n",
    "    itemsCopy = sorted(items, key=keyFunction, reverse=True)\n",
    "    totalValue, totalWeight = 0, 0\n",
    "    result = []\n",
    "    for i in range(len(itemsCopy)):\n",
    "        if (totalWeight + itemsCopy[i].getWeight()) <= maxWeight:\n",
    "            result.append(itemsCopy[i])\n",
    "            totalValue += itemsCopy[i].getValue()\n",
    "            totalWeight += itemsCopy[i].getWeight()\n",
    "    \n",
    "    return (result, totalValue)\n",
    "\n",
    "def buildItems():\n",
    "    names = ['clock','painting','radio','vase','book','computer']\n",
    "    values = [175,90,20,50,10,200]\n",
    "    weights = [10,9,4,2,1,20]\n",
    "    Items = []\n",
    "    for i in range(len(values)):\n",
    "        Items.append(Item(names[i], values[i], weights[i]))\n",
    "    return Items\n",
    "\n",
    "###################################\n",
    "# Implementing the greedy algorithm\n",
    "###################################\n",
    "# The essence of a greedy algorithm is making the best (as defined by some metric) \n",
    "# local choice at each step.\n",
    "\n",
    "def testGreedy(items, maxWeight, keyFunction):\n",
    "    taken, val = greedy(items, maxWeight, keyFunction)\n",
    "    print('Total value of items taken is: ', val)\n",
    "    for item in taken:\n",
    "        print(' ', item)\n",
    "\n",
    "def testGreedys(maxUnits):\n",
    "    items = buildItems()\n",
    "    print('Use greedy by value to fill a backpack of size: ', maxUnits)\n",
    "    testGreedy(items, maxUnits, value)\n",
    "    print('\\nUse greedy by weight to fill a backpack with size: ', maxUnits)\n",
    "    testGreedy(items, maxUnits, weightInverse)\n",
    "    print('\\nUse greedy by density to fill a backpack of size: ', maxUnits)\n",
    "    testGreedy(items, maxUnits, density)\n",
    "\n",
    "#############################################################\n",
    "# Implementing brute force algorithm for the previous problem\n",
    "#############################################################\n",
    "# The complexity of the brute force algorithm is O(2^n)\n",
    "# The brute force algorithm gives the optimal global solution,\n",
    "# whereas the greedy algorithm gives the optimal local solution(based on a metric).\n",
    "\n",
    "def chooseBest(pset, maxUnits):\n",
    "    bestVal = 0\n",
    "    bestSet = None\n",
    "    for items in pset:\n",
    "        itemsVal = 0\n",
    "        itemsWeight = 0\n",
    "        for item in items:\n",
    "            itemsVal += item.getValue()\n",
    "            itemsWeight += item.getWeight()\n",
    "            if itemsWeight < maxUnits and itemsVal > bestVal:\n",
    "                bestVal = itemsVal\n",
    "                bestSet = items\n",
    "    return (bestVal, bestSet)\n",
    "\n",
    "def testBest(maxUnits = 20):\n",
    "    items = buildItems()\n",
    "    pset = power_set(items)\n",
    "    val, taken = chooseBest(pset, maxUnits)\n",
    "    print(\"Total value of items taken is: \", val)\n",
    "    for item in taken:\n",
    "        print(item)\n"
   ]
  },
  {
   "cell_type": "code",
   "execution_count": 11,
   "metadata": {},
   "outputs": [
    {
     "name": "stdout",
     "output_type": "stream",
     "text": [
      "Use greedy by value to fill a backpack of size:  20\n",
      "Total value of items taken is:  200\n",
      "  <computer, 200, 20>\n",
      "\n",
      "Use greedy by weight to fill a backpack with size:  20\n",
      "Total value of items taken is:  170\n",
      "  <book, 10, 1>\n",
      "  <vase, 50, 2>\n",
      "  <radio, 20, 4>\n",
      "  <painting, 90, 9>\n",
      "\n",
      "Use greedy by density to fill a backpack of size:  20\n",
      "Total value of items taken is:  255\n",
      "  <vase, 50, 2>\n",
      "  <clock, 175, 10>\n",
      "  <book, 10, 1>\n",
      "  <radio, 20, 4>\n"
     ]
    }
   ],
   "source": [
    "testGreedys(20)\n",
    "# Note: from the result of running this block we can see that the greedy solution doesn't always\n",
    "# give the optimal solution and there can different criteria for finding the optimal solution."
   ]
  },
  {
   "cell_type": "code",
   "execution_count": 12,
   "metadata": {},
   "outputs": [
    {
     "name": "stdout",
     "output_type": "stream",
     "text": [
      "Total value of items taken is:  265\n",
      "<clock, 175, 10>\n",
      "<painting, 90, 9>\n"
     ]
    }
   ],
   "source": [
    "testBest(20)\n",
    "# from the results of this block we can see how the brute force algorithm gives the optimal solution"
   ]
  },
  {
   "cell_type": "markdown",
   "metadata": {},
   "source": [
    "### Decision tress and Dynamic Programming\n",
    "Dynamic programming is a method for efficiently solving problems that exhibit the characteristics of overlapping subproblems and optimal substructure.\n",
    "\n",
    "A problem has optimal substructure if a globally optimal solution can be found by combining optimal solutions to local subproblems.\n",
    "\n",
    "A problem has optimal substructure if a globally optimal solution can be found by combining optimal solutions to local subproblems."
   ]
  },
  {
   "cell_type": "code",
   "execution_count": 13,
   "metadata": {},
   "outputs": [],
   "source": [
    "def fib(n):\n",
    "    \"\"\"Assumes n is an int >= 0\n",
    "    Returns Fibonacci of n\"\"\"\n",
    "    if n == 0 or n == 1:\n",
    "        return 1\n",
    "    else:\n",
    "        return fib(n-1) + fib(n-2)"
   ]
  },
  {
   "cell_type": "markdown",
   "metadata": {},
   "source": [
    "The previous implementation of Fibonacci algorithm is not efficient because for each n value, all of the previous values are calculated over and over again. For this reason dynamic programming offers a solution of recording the results of each run in a dictionary. This is called **Memoziation**.\n",
    "The following code shows a new Fibonacci implementation that is more efficient. "
   ]
  },
  {
   "cell_type": "code",
   "execution_count": 14,
   "metadata": {},
   "outputs": [],
   "source": [
    "def fastFib(n, memo = {}):\n",
    "    \"\"\"Assumes n is an int >= 0, memo used only by recursive calls\n",
    "    Returns Fibonacci of n\"\"\"\n",
    "    if n == 0 or n == 1:\n",
    "        return 1\n",
    "    try:\n",
    "        return memo[n]\n",
    "    except KeyError:\n",
    "        result = fastFib(n-1, memo) + fastFib(n-2, memo)\n",
    "        memo[n] = result\n",
    "        return result"
   ]
  },
  {
   "cell_type": "markdown",
   "metadata": {},
   "source": [
    "fastFib(120)"
   ]
  },
  {
   "cell_type": "markdown",
   "metadata": {},
   "source": [
    "The knapsack problem can be solved using dynamic programming by constructing search binary tree.\n",
    "A rooted binary tree is an acyclic directed graph in which:\n",
    "* There is exactly one node with no parent. This is called **Root**.\n",
    "* Each non-root node has exactly one parent.\n",
    "* Each node has at most two children nodes. A child-less node is called **leaf**.\n",
    "\n",
    "Each node in the search tree for the 0/1 knapsack problem is labeled with a quadruple that denotes a partial solution to the knapsack problem. The elements of the quadruple are:\n",
    "* A set of items to be taken,\n",
    "* The list of items for which a decision has not been made,\n",
    "* The total value of the items in the set of items to be taken (this is merely an optimization, since the value could be computed from the set), and\n",
    "* The remaining space in the knapsack. (Again, this is an optimization, since it is merely the difference between the weight allowed and the weight of all the items taken so far.)\n",
    "\n",
    "##### Implementation strategy:\n",
    "The tree is built top-down starting with the root. One element is selected from the still-to-be-considered items. If there is room for that item in the knap- sack, a node is constructed that reflects the consequence of choosing to take that item. By convention, we draw that node as the left child. The right child shows the consequences of choosing not to take that item. The process is then applied recursively until either the knapsack is full or there are no more items to consider. Because each edge represents a decision (to take or not to take an item), such trees are called decision trees."
   ]
  },
  {
   "cell_type": "code",
   "execution_count": 15,
   "metadata": {},
   "outputs": [],
   "source": [
    "def maxVal(toConsider, avail):\n",
    "    \"\"\"Assumes toConsider a list of items, avail a weight\n",
    "        Returns a tuple of the total value of a solution to the\n",
    "        0/1 knapsack problem and the items of that solution\"\"\"\n",
    "    if toConsider == [] or avail == 0:\n",
    "        result = (0, ())\n",
    "    elif toConsider[0].getWeight() > avail:\n",
    "        # Explore right branch only\n",
    "        result = maxVal(toConsider[1:], avail)\n",
    "    else:\n",
    "        nextItem = toConsider[0]\n",
    "        # Explore left branch\n",
    "        withVal, withTotake = maxVal(toConsider[1:], avail-nextItem.getWeight())\n",
    "        withVal += nextItem.getValue()\n",
    "        \n",
    "        # Explore right branch\n",
    "        withoutVal, withoutTotake = maxVal(toConsider[1:], avail)\n",
    "        \n",
    "        # Choose better branch\n",
    "        if withVal > withoutVal:\n",
    "            result = (withVal, withTotake + (nextItem,))\n",
    "        else:\n",
    "            result = (withoutVal, withoutTotake)\n",
    "    return result"
   ]
  },
  {
   "cell_type": "code",
   "execution_count": 16,
   "metadata": {},
   "outputs": [
    {
     "name": "stdout",
     "output_type": "stream",
     "text": [
      "Use search tree to allocate 30 weight\n",
      "Total value of items taken: 375\n",
      "  <computer, 200, 20>\n",
      "  <clock, 175, 10>\n"
     ]
    }
   ],
   "source": [
    "def testMaxVal(items, maxWeight):\n",
    "    print(\"Use search tree to allocate {} weight\".format(maxWeight))\n",
    "    val, taken = maxVal(items, maxWeight)\n",
    "    print(\"Total value of items taken: {}\".format(val))\n",
    "    for item in taken:\n",
    "        print(' ', item)\n",
    "\n",
    "x = buildItems()\n",
    "testMaxVal(x, 30)"
   ]
  },
  {
   "cell_type": "markdown",
   "metadata": {},
   "source": [
    "### Graph theory\n",
    "* Set of nodes(vertices).\n",
    "* Set of edges.\n",
    "    * Undirected.\n",
    "    * Directed.\n",
    "    * Unweighted or weighted (weight can be any metric)\n",
    "* Graphs are useful for capturing relationships between entities. \n",
    "\n",
    "* There are two representations of graphs:\n",
    "    1. Adjacency matrix.\n",
    "        * It can be used when the network is dense and we have a lot of edges.\n",
    "        * Rows: source nodes.\n",
    "        * Columns: destination nodes.\n",
    "        * ex: c[s, d] = 1. (1 if there is a connection between the nodes s and d. 0 if otherwise.Additionally, we can use weight instead of 0s and 1s.)\n",
    "    2. Adjacency list:\n",
    "        * Associate with each node a list of destination nodes.\n",
    "        "
   ]
  },
  {
   "cell_type": "code",
   "execution_count": 17,
   "metadata": {},
   "outputs": [],
   "source": [
    "# Implementation\n",
    "class Node(object):\n",
    "    def __init__(self, name):\n",
    "        \"\"\" Assumes name is a string \"\"\"\n",
    "        self.name = name\n",
    "    def getName(self):\n",
    "        return self.name\n",
    "    def __str__(self):\n",
    "        return self.name\n",
    "    \n",
    "class Edge(object):\n",
    "    def __init__(self, src, dest):\n",
    "        self.src = src\n",
    "        self.dest = dest\n",
    "    def getSource(self):\n",
    "        return self.src\n",
    "    def getDestination(self):\n",
    "        return self.dest\n",
    "    def __str__(self):\n",
    "        return self.src.getName() + '-->' + self.dest.getName()\n",
    "    \n",
    "class Digraph(object):\n",
    "    \"\"\" edges is a dictionary mapping each node to its children \"\"\"\n",
    "    def __init__(self):\n",
    "        self.edges = {}\n",
    "\n",
    "    def addNode(self, node):\n",
    "        if node in self.edges:\n",
    "            raise ValueError('Duplicate node')\n",
    "        else:\n",
    "            self.edges[node] = []\n",
    "            \n",
    "    def addEdge(self, edge):\n",
    "        src = edge.getSource()\n",
    "        dest = edge.getDestination()\n",
    "        if not (src in self.edges and dest in self.edges):\n",
    "            raise ValueError('Node NOT in graph!!')\n",
    "        self.edges[src].append(dest)\n",
    "\n",
    "    def children(self, node):\n",
    "        return self.edges[node]\n",
    "    def hasNode(self, node):\n",
    "        return node in self.edges\n",
    "    def getNode(self, name):\n",
    "        for n in self.edges:\n",
    "            if n.getName() == name:\n",
    "                return n\n",
    "        raise NameError(name)\n",
    "            \n",
    "    def __str__(self):\n",
    "        result = ''\n",
    "        for src in self.edges:\n",
    "            for dest in self.edges[src]:\n",
    "                result = result + src.getName() + ' --> ' + dest.getName() + '\\n'\n",
    "        return result[:-1]\n",
    "    \n",
    "class Graph(Digraph):\n",
    "    def addEdge(self, edge):\n",
    "        Digraph.addEdge(self, edge)\n",
    "        rev = Edge(edge.getDestination(), edge.getSource())\n",
    "        Digraph.addEdge(self, rev)"
   ]
  },
  {
   "cell_type": "code",
   "execution_count": 30,
   "metadata": {},
   "outputs": [
    {
     "name": "stdout",
     "output_type": "stream",
     "text": [
      "Boston --> Providence\n",
      "Boston --> New York\n",
      "Providence --> Boston\n",
      "New York --> Boston\n",
      "New York --> Chicago\n",
      "Chicago --> Denver\n",
      "Chicago --> Phoenix\n",
      "Denver --> Phoenix\n",
      "Denver --> New York\n",
      "Los Angeles --> Boston\n"
     ]
    }
   ],
   "source": [
    "# Example\n",
    "def buildcitygraph(graphType):\n",
    "    g = graphType()\n",
    "    cities = ('Boston', 'Providence', 'New York', 'Chicago', 'Denver', 'Phoenix', 'Los Angeles')\n",
    "    for name in cities:\n",
    "        g.addNode(Node(name))\n",
    "\n",
    "    g.addEdge(Edge(g.getNode('Boston'), g.getNode('Providence')))\n",
    "    g.addEdge(Edge(g.getNode('Boston'), g.getNode('New York')))\n",
    "    g.addEdge(Edge(g.getNode('Providence'), g.getNode('Boston')))\n",
    "    g.addEdge(Edge(g.getNode('New York'), g.getNode('Boston')))\n",
    "    g.addEdge(Edge(g.getNode('New York'), g.getNode('Chicago')))\n",
    "    g.addEdge(Edge(g.getNode('Chicago'), g.getNode('Denver')))\n",
    "    g.addEdge(Edge(g.getNode('Denver'), g.getNode('Phoenix')))\n",
    "    g.addEdge(Edge(g.getNode('Denver'), g.getNode('New York')))\n",
    "    g.addEdge(Edge(g.getNode('Chicago'), g.getNode('Phoenix')))\n",
    "    g.addEdge(Edge(g.getNode('Los Angeles'), g.getNode('Boston')))\n",
    "    return g\n",
    "\n",
    "print(buildcitygraph(Digraph))"
   ]
  },
  {
   "cell_type": "code",
   "execution_count": 33,
   "metadata": {},
   "outputs": [
    {
     "name": "stdout",
     "output_type": "stream",
     "text": [
      "Current DFS path Boston\n",
      "Current DFS path Boston -> Providence\n",
      "Already visited Boston\n",
      "Current DFS path Boston -> New York\n",
      "Already visited Boston\n",
      "Current DFS path Boston -> New York -> Chicago\n",
      "Current DFS path Boston -> New York -> Chicago -> Denver\n",
      "Current DFS path Boston -> New York -> Chicago -> Denver -> Phoenix\n",
      "Already visited New York\n",
      "Current DFS path Boston -> New York -> Chicago -> Phoenix\n",
      "Shortest path from Boston to Phoenix is: Boston -> New York -> Chicago -> Phoenix\n"
     ]
    }
   ],
   "source": [
    "# Finding the shortest path\n",
    "# Depth First Search (DFS)\n",
    "\n",
    "def printPath(path):\n",
    "    result = ''\n",
    "    for i in range(len(path)):\n",
    "        result = result + str(path[i])\n",
    "        if i != len(path) -1:\n",
    "            result = result + ' -> '\n",
    "    return result \n",
    "\n",
    "def DFS(graph, start, end, path, shortest, toPrint=False):\n",
    "    path = path + [start]\n",
    "\n",
    "    if toPrint:\n",
    "        print('Current DFS path', printPath(path))\n",
    "        \n",
    "    if start == end:\n",
    "        return path\n",
    "    for node in graph.children(start):\n",
    "        if node not in path:\n",
    "            if shortest == None or len(path) < len(shortest):\n",
    "                newPath = DFS(graph, node, end, path, shortest, toPrint)\n",
    "\n",
    "                if newPath != None:\n",
    "                    shortest = newPath\n",
    "        elif toPrint:\n",
    "            print('Already visited', node)\n",
    "    return shortest\n",
    "\n",
    "def shortestPath(graph, start, end, toPrint):\n",
    "    return DFS(graph, start, end, [], None, toPrint)\n",
    "\n",
    "def testSP(source, destination):\n",
    "    g = buildcitygraph(Digraph)\n",
    "    sp = shortestPath(g, g.getNode(source), g.getNode(destination), toPrint = True)\n",
    "    if sp != None:\n",
    "        print('Shortest path from {} to {} is: {}'.format(source, destination, printPath(sp)))\n",
    "    else:\n",
    "        print('There is no path from {} to {}'.format(source, destination))\n",
    "\n",
    "testSP('Boston', 'Phoenix')"
   ]
  }
 ],
 "metadata": {
  "kernelspec": {
   "display_name": "Python 3",
   "language": "python",
   "name": "python3"
  },
  "language_info": {
   "codemirror_mode": {
    "name": "ipython",
    "version": 3
   },
   "file_extension": ".py",
   "mimetype": "text/x-python",
   "name": "python",
   "nbconvert_exporter": "python",
   "pygments_lexer": "ipython3",
   "version": "3.10.12"
  },
  "orig_nbformat": 4
 },
 "nbformat": 4,
 "nbformat_minor": 2
}
