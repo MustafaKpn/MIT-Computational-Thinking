{
 "cells": [
  {
   "cell_type": "markdown",
   "metadata": {},
   "source": [
    "#### Optimization model\n",
    "##### Knapsack problem, Implementing Greedy algorithm"
   ]
  },
  {
   "cell_type": "code",
   "execution_count": 20,
   "metadata": {},
   "outputs": [],
   "source": [
    "class Food(object):\n",
    "    def __init__(self, n, v, w):\n",
    "        self.name = n\n",
    "        self.value = v\n",
    "        self.calories = w\n",
    "    \n",
    "    def getValue(self):\n",
    "        return self.value\n",
    "\n",
    "    def getCost(self):\n",
    "        return self.calories\n",
    "    \n",
    "    def getDensity(self):\n",
    "        return self.getValue() / self.getCost()\n",
    "    \n",
    "    def __str__(self):\n",
    "        return self.name + ': <' + str(self.getValue()) + ', ' + str(self.calories) + '>'\n",
    "\n",
    "def buildMenu(names, values, calories):\n",
    "    \"\"\" Returns a list of names, values, calories lists of the same length.\n",
    "        names: list of food names. (str)\n",
    "        values: list of food prices. (int/float)\n",
    "        calories: list of food calories. (int/float) \"\"\"\n",
    "\n",
    "    menu = []\n",
    "    for i in range(len(values)):\n",
    "        menu.append(Food(names[i], values[i], calories[i]))\n",
    "    return menu"
   ]
  },
  {
   "cell_type": "code",
   "execution_count": 27,
   "metadata": {},
   "outputs": [
    {
     "name": "stdout",
     "output_type": "stream",
     "text": [
      "oranges: <9, 6>\n"
     ]
    }
   ],
   "source": [
    "m = buildMenu(['apples', 'oranges'], [12, 9], [3, 6])\n",
    "print(m[1])"
   ]
  }
 ],
 "metadata": {
  "kernelspec": {
   "display_name": "Python 3",
   "language": "python",
   "name": "python3"
  },
  "language_info": {
   "codemirror_mode": {
    "name": "ipython",
    "version": 3
   },
   "file_extension": ".py",
   "mimetype": "text/x-python",
   "name": "python",
   "nbconvert_exporter": "python",
   "pygments_lexer": "ipython3",
   "version": "3.10.12"
  },
  "orig_nbformat": 4
 },
 "nbformat": 4,
 "nbformat_minor": 2
}
